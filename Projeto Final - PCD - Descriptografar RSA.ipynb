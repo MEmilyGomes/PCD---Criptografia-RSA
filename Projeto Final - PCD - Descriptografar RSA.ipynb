{
 "cells": [
  {
   "cell_type": "code",
   "execution_count": 1,
   "id": "f49356ed",
   "metadata": {},
   "outputs": [
    {
     "name": "stdout",
     "output_type": "stream",
     "text": [
      "Digite o nome do arquivo a ser descriptografado: texto_criptografado.txt\n",
      "Digite o valor da chave privada d: 16794667\n",
      "Digite o valor da chave pública n: 25202299\n",
      "RSA - Lista decodificada: [114, 231, 314, 148, 155, 112, 220, 237, 228, 220, 155, 104, 232, 228, 231, 244, 126, 155, 155, 114, 231, 314, 148, 155, 111, 240, 222, 220, 238, 126, 155, 155, 114, 231, 314, 148, 155, 100, 223, 237, 228, 220, 233, 126, 155, 155, 102, 234, 232, 234, 155, 241, 220, 228, 155, 220, 155, 241, 228, 223, 220, 152, 155, 174, 179, 149, 180, 171, 155, 222, 220, 238, 234, 238, 152, 155, 114, 228, 152, 155, 155, 104, 238, 236, 240, 228, 245, 234, 225, 237, 224, 233, 228, 220, 152, 155, 116, 240, 224, 232, 152]\n",
      "Texto decodificado: Olá, Maria Emily!  Olá, Lucas!  Olá, Adrian!  Como vai a vida? 38.90 casos? Oi?  Esquizofrenia? Quem?\n",
      "Texto decodificado salvo em texto_decodificado.txt\n"
     ]
    }
   ],
   "source": [
    "import string\n",
    "\n",
    "# Criando Lista com Todos os Caracteres Possíveis\n",
    "special_characters = \"!@#$%^&*()_+-=[]{}|;:',.<>?/~\"\n",
    "unicode_ranges = [\n",
    "    (0x0020, 0x007E),\n",
    "    (0x00A1, 0x00FF),\n",
    "    (0x0100, 0x017F),\n",
    "]\n",
    "\n",
    "all_characters = \"\"\n",
    "for start, end in unicode_ranges:\n",
    "    all_characters += \"\".join(chr(code) for code in range(start, end + 1))\n",
    "\n",
    "combined_characters = string.ascii_uppercase + special_characters + all_characters\n",
    "\n",
    "def ler_texto_arquivo(nome_arquivo):\n",
    "    \"\"\"Lê um arquivo de texto\"\"\"\n",
    "    with open(nome_arquivo, 'r', encoding='utf-8') as arquivo:\n",
    "        return arquivo.read()\n",
    "\n",
    "def escrever_texto_arquivo(nome_arquivo, texto):\n",
    "    \"\"\"Função para escrever o texto descriptografado em um arquivo\"\"\"\n",
    "    with open(nome_arquivo, 'w', encoding='utf-8') as arquivo:\n",
    "        arquivo.write(texto)\n",
    "\n",
    "# Função de Descriptografia\n",
    "def lista_decodifica(codificada, valor_d, valor_n):\n",
    "    return [pow(i, valor_d, valor_n) for i in codificada]\n",
    "\n",
    "def decodifica_parte_um(lista_decodificada):\n",
    "    \"\"\"Função que converte valores numéricos de volta para caracteres\"\"\"\n",
    "    texto_decodificado = \"\"\n",
    "    for valor in lista_decodificada:\n",
    "        index = valor - 100\n",
    "        texto_decodificado += combined_characters[index]\n",
    "    return texto_decodificado\n",
    "\n",
    "# Solicitar entrada do usuário\n",
    "nome_arquivo_criptografado = input(\"Digite o nome do arquivo a ser descriptografado: \")\n",
    "d = int(input(\"Digite o valor da chave privada d: \"))\n",
    "n = int(input(\"Digite o valor da chave pública n: \"))\n",
    "\n",
    "# Ler o texto criptografado\n",
    "texto_criptografado = ler_texto_arquivo(nome_arquivo_criptografado)\n",
    "codificada = list(map(int, texto_criptografado.split()))\n",
    "\n",
    "# Decodificar a lista\n",
    "decodificada = lista_decodifica(codificada, d, n)\n",
    "print(f\"RSA - Lista decodificada: {decodificada}\")\n",
    "\n",
    "# Converter a lista decodificada de volta para o texto original\n",
    "texto_decodificado = decodifica_parte_um(decodificada)\n",
    "print(f\"Texto decodificado: {texto_decodificado}\")\n",
    "\n",
    "# Escrever o texto decodificado de volta no arquivo\n",
    "nome_arquivo_decodificado = 'texto_decodificado.txt'\n",
    "escrever_texto_arquivo(nome_arquivo_decodificado, texto_decodificado)\n",
    "\n",
    "print(f\"Texto decodificado salvo em {nome_arquivo_decodificado}\")"
   ]
  }
 ],
 "metadata": {
  "kernelspec": {
   "display_name": "ilumpy",
   "language": "python",
   "name": "ilumpy"
  },
  "language_info": {
   "codemirror_mode": {
    "name": "ipython",
    "version": 3
   },
   "file_extension": ".py",
   "mimetype": "text/x-python",
   "name": "python",
   "nbconvert_exporter": "python",
   "pygments_lexer": "ipython3",
   "version": "3.11.6"
  }
 },
 "nbformat": 4,
 "nbformat_minor": 5
}
