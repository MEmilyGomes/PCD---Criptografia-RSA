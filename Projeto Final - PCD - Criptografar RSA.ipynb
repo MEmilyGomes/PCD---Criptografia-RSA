{
 "cells": [
  {
   "cell_type": "markdown",
   "id": "903a4597",
   "metadata": {},
   "source": [
    "# CRIPTOGRAFANDO"
   ]
  },
  {
   "cell_type": "markdown",
   "id": "05186c29",
   "metadata": {},
   "source": [
    "## Importando bibliotecas"
   ]
  },
  {
   "cell_type": "code",
   "execution_count": 1,
   "id": "1ec3dc86",
   "metadata": {},
   "outputs": [],
   "source": [
    "import string\n",
    "import math\n",
    "import sys\n",
    "import timeit\n",
    "import random as rd"
   ]
  },
  {
   "cell_type": "markdown",
   "id": "a372be74",
   "metadata": {},
   "source": [
    "## Níveis de criptografia"
   ]
  },
  {
   "cell_type": "code",
   "execution_count": 2,
   "id": "97a486da",
   "metadata": {},
   "outputs": [],
   "source": [
    "def nivel_criptografia(nivel):\n",
    "    if nivel == 'pouco seguro':\n",
    "        return rd.randint(10**2, 10**3), rd.randint(10**2, 10**3)\n",
    "    elif nivel == 'seguro':\n",
    "        return rd.randint(10**4, 10**5), rd.randint(10**4, 10**5)\n",
    "    elif nivel == 'muito seguro':\n",
    "        return rd.randint(10**6, 10**7), rd.randint(10**6, 10**7)\n",
    "    else:\n",
    "        raise ValueError(\"Nível de criptografia desconhecido.\")"
   ]
  },
  {
   "cell_type": "markdown",
   "id": "81208225",
   "metadata": {},
   "source": [
    "## Método de Euclides - MDC"
   ]
  },
  {
   "cell_type": "code",
   "execution_count": 3,
   "id": "5024e31e",
   "metadata": {},
   "outputs": [],
   "source": [
    "def mdc(valor_1, valor_2):\n",
    "    \n",
    "    \"\"\"Calcula o MDC de dois números inteiros\"\"\"\n",
    "    \n",
    "    resto = valor_1 % valor_2\n",
    "    \n",
    "    if resto == 0:\n",
    "        return valor_2\n",
    "    \n",
    "    else:\n",
    "        return mdc(valor_2, resto)"
   ]
  },
  {
   "cell_type": "markdown",
   "id": "8ad369f4",
   "metadata": {},
   "source": [
    "## Criando Lista com Todos os Caracteres Possíveis"
   ]
  },
  {
   "cell_type": "code",
   "execution_count": 4,
   "id": "d6533871",
   "metadata": {},
   "outputs": [],
   "source": [
    "special_characters = \"!@#$%^&*()_+-=[]{}|;:',.<>?/~\"\n",
    "unicode_ranges = [\n",
    "    (0x0020, 0x007E),\n",
    "    (0x00A1, 0x00FF), \n",
    "    (0x0100, 0x017F),  \n",
    "]\n",
    " \n",
    "all_characters = \"\"\n",
    "for start, end in unicode_ranges:\n",
    "    all_characters += \"\".join(chr(code) for code in range(start, end + 1))\n",
    " \n",
    "combined_characters = string.ascii_uppercase + special_characters + all_characters"
   ]
  },
  {
   "cell_type": "markdown",
   "id": "41ea7722",
   "metadata": {},
   "source": []
  },
  {
   "cell_type": "code",
   "execution_count": 5,
   "id": "c035ee2f",
   "metadata": {},
   "outputs": [],
   "source": [
    "def codifica_parte_um(texto, n):\n",
    "    \n",
    "    \"\"\"Função que atribui um valor numérico para cada caractere\"\"\"\n",
    "    \n",
    "    criptografia = []\n",
    "    \n",
    "    for i in texto:\n",
    "        if i in combined_characters:\n",
    "            valor_respectivo = combined_characters.index(i) + 100\n",
    "            criptografia.append(valor_respectivo)\n",
    "        \n",
    "        else:\n",
    "            valor_respectivo = combined_characters.index(' ') + 100 \n",
    "            criptografia.append(valor_respectivo)\n",
    "    \n",
    "    return criptografia"
   ]
  },
  {
   "cell_type": "markdown",
   "id": "3619b331",
   "metadata": {},
   "source": [
    "## Encontrando números primos"
   ]
  },
  {
   "cell_type": "code",
   "execution_count": 6,
   "id": "39762537",
   "metadata": {},
   "outputs": [],
   "source": [
    "def sieve(limit):\n",
    "    \n",
    "    \"\"\"Retorna uma lista de primos até o limite usando o Crivo de Eratóstenes.\"\"\"\n",
    "    is_prime = [True] * (limit + 1)\n",
    "    is_prime[0] = is_prime[1] = False\n",
    "    for i in range(2, int(math.sqrt(limit)) + 1):\n",
    "        if is_prime[i]:\n",
    "            for j in range(i * i, limit + 1, i):\n",
    "                is_prime[j] = False\n",
    "    return [i for i in range(2, limit + 1) if is_prime[i]]\n",
    " \n",
    "def segmented_sieve(n):\n",
    "    \n",
    "    \"\"\"Retorna o n-ésimo número primo usando o Crivo de Eratóstenes segmentado.\"\"\"\n",
    "    if n < 1:\n",
    "        return None\n",
    "    limite = 10**6  # Defina um limite inicial adequado\n",
    "    primes = sieve(limite)\n",
    "    count = len(primes)\n",
    "    while count < n:\n",
    "        # Aumenta o limite para a próxima iteração\n",
    "        limite *= 2\n",
    "        primes = sieve(limite)\n",
    "        count = len(primes)\n",
    "    return primes[n - 1]"
   ]
  },
  {
   "cell_type": "markdown",
   "id": "00702add",
   "metadata": {},
   "source": [
    "## Variáveis"
   ]
  },
  {
   "cell_type": "code",
   "execution_count": 7,
   "id": "a410b5c6",
   "metadata": {},
   "outputs": [
    {
     "name": "stdout",
     "output_type": "stream",
     "text": [
      "Digite o nome do arquivo a ser criptografado: teste.txt\n",
      "Digite o nível de criptografia (pouco seguro, seguro, muito seguro): pouco seguRo\n"
     ]
    }
   ],
   "source": [
    "nome_arquivo = input(\"Digite o nome do arquivo a ser criptografado: \")\n",
    "nivel = input(\"Digite o nível de criptografia (pouco seguro, seguro, muito seguro): \").strip().lower()"
   ]
  },
  {
   "cell_type": "markdown",
   "id": "69410487",
   "metadata": {},
   "source": []
  },
  {
   "cell_type": "code",
   "execution_count": 8,
   "id": "55ec58f8",
   "metadata": {},
   "outputs": [],
   "source": [
    "def ler_texto_arquivo(nome_arquivo):\n",
    "    \n",
    "    \"\"\"Lê um arquivo de texto\"\"\"\n",
    "    \n",
    "    with open(nome_arquivo, 'r', encoding='utf-8') as arquivo:\n",
    "        return arquivo.read()"
   ]
  },
  {
   "cell_type": "markdown",
   "id": "f77fa7d7",
   "metadata": {},
   "source": []
  },
  {
   "cell_type": "code",
   "execution_count": 9,
   "id": "0b164217",
   "metadata": {},
   "outputs": [],
   "source": [
    "def escrever_texto_arquivo(nome_arquivo, texto):\n",
    "    \n",
    "    \"\"\"Função para escrever o texto criptografado em um arquivo\"\"\"\n",
    "    \n",
    "    with open(nome_arquivo, 'w', encoding='utf-8') as arquivo:\n",
    "        arquivo.write(texto)\n",
    "        \n",
    "texto = ler_texto_arquivo(nome_arquivo)"
   ]
  },
  {
   "cell_type": "markdown",
   "id": "55cc8d34",
   "metadata": {},
   "source": []
  },
  {
   "cell_type": "code",
   "execution_count": 10,
   "id": "652ba1f1",
   "metadata": {},
   "outputs": [],
   "source": [
    "numero01, numero02 = nivel_criptografia(nivel)\n",
    " \n",
    "q = segmented_sieve(numero01 )\n",
    "p = segmented_sieve(numero02)"
   ]
  },
  {
   "cell_type": "markdown",
   "id": "25297726",
   "metadata": {},
   "source": []
  },
  {
   "cell_type": "code",
   "execution_count": 11,
   "id": "b440d963",
   "metadata": {},
   "outputs": [
    {
     "name": "stdout",
     "output_type": "stream",
     "text": [
      "Chave pública (n): 25202299\n",
      "Texto codificado: [114, 231, 314, 148, 155, 112, 220, 237, 228, 220, 155, 104, 232, 228, 231, 244, 126, 155, 155, 114, 231, 314, 148, 155, 111, 240, 222, 220, 238, 126, 155, 155, 114, 231, 314, 148, 155, 100, 223, 237, 228, 220, 233, 126, 155, 155, 102, 234, 232, 234, 155, 241, 220, 228, 155, 220, 155, 241, 228, 223, 220, 152, 155, 174, 179, 149, 180, 171, 155, 222, 220, 238, 234, 238, 152, 155, 114, 228, 152, 155, 155, 104, 238, 236, 240, 228, 245, 234, 225, 237, 224, 233, 228, 220, 152, 155, 116, 240, 224, 232, 152]\n",
      "Número de Euler (z): 25192000\n",
      "Expoente público (e): 3\n",
      "Expoente privado (d): 16794667\n",
      "RSA - Lista codificada: [1481544, 12326391, 5756845, 3241792, 3723875, 1404928, 10648000, 13312053, 11852352, 10648000, 3723875, 1124864, 12487168, 11852352, 12326391, 14526784, 2000376, 3723875, 3723875, 1481544, 12326391, 5756845, 3241792, 3723875, 1367631, 13824000, 10941048, 10648000, 13481272, 2000376, 3723875, 3723875, 1481544, 12326391, 5756845, 3241792, 3723875, 1000000, 11089567, 13312053, 11852352, 10648000, 12649337, 2000376, 3723875, 3723875, 1061208, 12812904, 12487168, 12812904, 3723875, 13997521, 10648000, 11852352, 3723875, 10648000, 3723875, 13997521, 11852352, 11089567, 10648000, 3511808, 3723875, 5268024, 5735339, 3307949, 5832000, 5000211, 3723875, 10941048, 10648000, 13481272, 12812904, 13481272, 3511808, 3723875, 1481544, 11852352, 3511808, 3723875, 3723875, 1124864, 13481272, 13144256, 13824000, 11852352, 14706125, 12812904, 11390625, 13312053, 11239424, 12649337, 11852352, 10648000, 3511808, 3723875, 1560896, 13824000, 11239424, 12487168, 3511808]\n",
      "Texto criptografado salvo em texto_criptografado.txt\n"
     ]
    }
   ],
   "source": [
    "# Chave pública (n)\n",
    "n = p * q\n",
    "print(f\"Chave pública (n): {n}\")\n",
    " \n",
    "# Codificar o texto\n",
    "codifica = codifica_parte_um(texto, n)\n",
    "print(f\"Texto codificado: {codifica}\")\n",
    " \n",
    "# Calcular z (função totiente de Euler)\n",
    "z = (p - 1) * (q - 1)\n",
    "print(f\"Número de Euler (z): {z}\")\n",
    " \n",
    "# Função para encontrar coprimos\n",
    "def acha_coprimos(valor_z):\n",
    "    for valor_e in range(3, valor_z):\n",
    "        if mdc(valor_e, valor_z) == 1:\n",
    "            return valor_e\n",
    " \n",
    "# Expoente público (e)\n",
    "e = acha_coprimos(z)\n",
    "print(f\"Expoente público (e): {e}\")\n",
    " \n",
    "# Função para encontrar o inverso modular d\n",
    "def achar_d(valor_z, valor_e):\n",
    "    valor_d = 2\n",
    "    while True:\n",
    "        if (valor_d * valor_e) % valor_z == 1:\n",
    "            return valor_d\n",
    "        valor_d += 1\n",
    " \n",
    "# Expoente privado (d)\n",
    "d = achar_d(z, e)\n",
    "print(f\"Expoente privado (d): {d}\")\n",
    " \n",
    "# Codificar com RSA\n",
    "def lista_codifica(para_codificar, valor_e, valor_n):\n",
    "    return [pow(i, valor_e, valor_n) for i in para_codificar]\n",
    " \n",
    "# Codificar a lista\n",
    "codificada = lista_codifica(codifica, e, n)\n",
    "print(f\"RSA - Lista codificada: {codificada}\")\n",
    " \n",
    "# Converter lista codificada em uma string para escrita em arquivo\n",
    "texto_criptografado = ' '.join(map(str, codificada))\n",
    " \n",
    "# Escrever texto criptografado de volta no arquivo\n",
    "nome_arquivo_criptografado = 'texto_criptografado.txt'\n",
    "escrever_texto_arquivo(nome_arquivo_criptografado, texto_criptografado)\n",
    " \n",
    "print(f\"Texto criptografado salvo em {nome_arquivo_criptografado}\")"
   ]
  },
  {
   "cell_type": "code",
   "execution_count": null,
   "id": "8a5543f4",
   "metadata": {},
   "outputs": [],
   "source": []
  }
 ],
 "metadata": {
  "kernelspec": {
   "display_name": "ilumpy",
   "language": "python",
   "name": "ilumpy"
  },
  "language_info": {
   "codemirror_mode": {
    "name": "ipython",
    "version": 3
   },
   "file_extension": ".py",
   "mimetype": "text/x-python",
   "name": "python",
   "nbconvert_exporter": "python",
   "pygments_lexer": "ipython3",
   "version": "3.11.6"
  }
 },
 "nbformat": 4,
 "nbformat_minor": 5
}
